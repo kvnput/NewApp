{
  "nbformat": 4,
  "nbformat_minor": 0,
  "metadata": {
    "colab": {
      "provenance": []
    },
    "kernelspec": {
      "name": "python3",
      "display_name": "Python 3"
    },
    "language_info": {
      "name": "python"
    }
  },
  "cells": [
    {
      "cell_type": "markdown",
      "source": [
        "# Proyek Analisis Data: Bike Sharing Dataset.\n",
        "- Nama: Putri Oktavianti\n",
        "- Email: oktaviantip52@gmail.com\n",
        "- Id Dicoding: putri_oktavianti_12"
      ],
      "metadata": {
        "id": "cP5zh7Ww85Fm"
      }
    },
    {
      "cell_type": "markdown",
      "source": [
        "## Menentukan Pertanyaan Bisnis"
      ],
      "metadata": {
        "id": "ggwOFmpI88dG"
      }
    },
    {
      "cell_type": "markdown",
      "source": [
        "- Bagaimana rata-rata jumlah peminjaman sepeda bervariasi berdasarkan faktor musiman seperti musim dan hari dalam seminggu?\n",
        "- Apakah terdapat korelasi antara kondisi cuaca dan tingkat penggunaan sepeda?\n"
      ],
      "metadata": {
        "id": "6irqmTtg8-IC"
      }
    },
    {
      "cell_type": "markdown",
      "source": [
        "## Menyaipkan semua library yang dibuthkan"
      ],
      "metadata": {
        "id": "EueHsNk89AsY"
      }
    },
    {
      "cell_type": "markdown",
      "source": [
        "import library digunakan untuk manipulasi dan analisis data, serta Matplotlib dan Seaborn"
      ],
      "metadata": {
        "id": "DTXz-KMRBsRP"
      }
    },
    {
      "cell_type": "code",
      "execution_count": 1,
      "metadata": {
        "id": "4cmWv4qc8xWu"
      },
      "outputs": [],
      "source": [
        "import numpy as np\n",
        "import pandas as pd\n",
        "import matplotlib.pyplot as plt\n",
        "import seaborn as sns"
      ]
    },
    {
      "cell_type": "code",
      "source": [
        "sns.set(style=\"whitegrid\")"
      ],
      "metadata": {
        "id": "KvwbOCBy1kqi"
      },
      "execution_count": 2,
      "outputs": []
    },
    {
      "cell_type": "markdown",
      "source": [
        "## Data Wrangling"
      ],
      "metadata": {
        "id": "7DwSpkkZ9BqV"
      }
    },
    {
      "cell_type": "markdown",
      "source": [
        "### Gathering Data"
      ],
      "metadata": {
        "id": "ZuJuLGxe9D9O"
      }
    },
    {
      "cell_type": "code",
      "source": [
        "day_data = pd.read_csv('dataset/day.csv')\n",
        "hour_data = pd.read_csv('dataset/hour.csv')"
      ],
      "metadata": {
        "id": "Rg3wtvOr9DUm"
      },
      "execution_count": 3,
      "outputs": []
    },
    {
      "cell_type": "code",
      "source": [
        "print(\"Data harian:\")\n",
        "print(day_data.head())\n",
        "print(\"\\nData per jam:\")\n",
        "print(hour_data.head())"
      ],
      "metadata": {
        "colab": {
          "base_uri": "https://localhost:8080/"
        },
        "id": "7ML-CZhG1rRI",
        "outputId": "2b05fa0e-32c3-454a-8da9-20924eab85f0"
      },
      "execution_count": 4,
      "outputs": [
        {
          "output_type": "stream",
          "name": "stdout",
          "text": [
            "Data harian:\n",
            "   instant      dteday  season  yr  mnth  holiday  weekday  workingday  \\\n",
            "0        1  2011-01-01       1   0     1        0        6           0   \n",
            "1        2  2011-01-02       1   0     1        0        0           0   \n",
            "2        3  2011-01-03       1   0     1        0        1           1   \n",
            "3        4  2011-01-04       1   0     1        0        2           1   \n",
            "4        5  2011-01-05       1   0     1        0        3           1   \n",
            "\n",
            "   weathersit      temp     atemp       hum  windspeed  casual  registered  \\\n",
            "0           2  0.344167  0.363625  0.805833   0.160446     331         654   \n",
            "1           2  0.363478  0.353739  0.696087   0.248539     131         670   \n",
            "2           1  0.196364  0.189405  0.437273   0.248309     120        1229   \n",
            "3           1  0.200000  0.212122  0.590435   0.160296     108        1454   \n",
            "4           1  0.226957  0.229270  0.436957   0.186900      82        1518   \n",
            "\n",
            "    cnt  \n",
            "0   985  \n",
            "1   801  \n",
            "2  1349  \n",
            "3  1562  \n",
            "4  1600  \n",
            "\n",
            "Data per jam:\n",
            "   instant      dteday  season  yr  mnth  hr  holiday  weekday  workingday  \\\n",
            "0        1  2011-01-01       1   0     1   0        0        6           0   \n",
            "1        2  2011-01-01       1   0     1   1        0        6           0   \n",
            "2        3  2011-01-01       1   0     1   2        0        6           0   \n",
            "3        4  2011-01-01       1   0     1   3        0        6           0   \n",
            "4        5  2011-01-01       1   0     1   4        0        6           0   \n",
            "\n",
            "   weathersit  temp   atemp   hum  windspeed  casual  registered  cnt  \n",
            "0           1  0.24  0.2879  0.81        0.0       3          13   16  \n",
            "1           1  0.22  0.2727  0.80        0.0       8          32   40  \n",
            "2           1  0.22  0.2727  0.80        0.0       5          27   32  \n",
            "3           1  0.24  0.2879  0.75        0.0       3          10   13  \n",
            "4           1  0.24  0.2879  0.75        0.0       0           1    1  \n"
          ]
        }
      ]
    },
    {
      "cell_type": "markdown",
      "source": [
        "### Assessing Data"
      ],
      "metadata": {
        "id": "BvZAfrSH9F2U"
      }
    },
    {
      "cell_type": "markdown",
      "source": [
        "Memeriksa tipe data dari setiap kolom dalam dataset. Langkah ini membantu memahami format dan representasi data yang dimiliki, yang pada gilirannya dapat mempengaruhi pemilihan metode analisis yang tepat."
      ],
      "metadata": {
        "id": "0QD9wP3KIUxS"
      }
    },
    {
      "cell_type": "code",
      "source": [
        "def check_data(df, name):\n",
        "    print(f\"\\nInformasi dataset: {name}\")\n",
        "    print(df.info())\n",
        "    print(\"\\nJumlah nilai yang hilang:\")\n",
        "    print(df.isnull().sum())\n",
        "    print(f\"\\nJumlah duplikasi: {df.duplicated().sum()}\")\n",
        "    print(\"\\nStatistik deskriptif:\")\n",
        "    print(df.describe())\n",
        "\n",
        "check_data(day_data, \"Day Data\")\n",
        "check_data(hour_data, \"Hour Data\")"
      ],
      "metadata": {
        "id": "fx7PaLsV9G8M",
        "colab": {
          "base_uri": "https://localhost:8080/"
        },
        "outputId": "d35e876d-cac9-4200-d6e7-ed5334df8bed"
      },
      "execution_count": 5,
      "outputs": [
        {
          "output_type": "stream",
          "name": "stdout",
          "text": [
            "\n",
            "Informasi dataset: Day Data\n",
            "<class 'pandas.core.frame.DataFrame'>\n",
            "RangeIndex: 731 entries, 0 to 730\n",
            "Data columns (total 16 columns):\n",
            " #   Column      Non-Null Count  Dtype  \n",
            "---  ------      --------------  -----  \n",
            " 0   instant     731 non-null    int64  \n",
            " 1   dteday      731 non-null    object \n",
            " 2   season      731 non-null    int64  \n",
            " 3   yr          731 non-null    int64  \n",
            " 4   mnth        731 non-null    int64  \n",
            " 5   holiday     731 non-null    int64  \n",
            " 6   weekday     731 non-null    int64  \n",
            " 7   workingday  731 non-null    int64  \n",
            " 8   weathersit  731 non-null    int64  \n",
            " 9   temp        731 non-null    float64\n",
            " 10  atemp       731 non-null    float64\n",
            " 11  hum         731 non-null    float64\n",
            " 12  windspeed   731 non-null    float64\n",
            " 13  casual      731 non-null    int64  \n",
            " 14  registered  731 non-null    int64  \n",
            " 15  cnt         731 non-null    int64  \n",
            "dtypes: float64(4), int64(11), object(1)\n",
            "memory usage: 91.5+ KB\n",
            "None\n",
            "\n",
            "Jumlah nilai yang hilang:\n",
            "instant       0\n",
            "dteday        0\n",
            "season        0\n",
            "yr            0\n",
            "mnth          0\n",
            "holiday       0\n",
            "weekday       0\n",
            "workingday    0\n",
            "weathersit    0\n",
            "temp          0\n",
            "atemp         0\n",
            "hum           0\n",
            "windspeed     0\n",
            "casual        0\n",
            "registered    0\n",
            "cnt           0\n",
            "dtype: int64\n",
            "\n",
            "Jumlah duplikasi: 0\n",
            "\n",
            "Statistik deskriptif:\n",
            "          instant      season          yr        mnth     holiday     weekday  \\\n",
            "count  731.000000  731.000000  731.000000  731.000000  731.000000  731.000000   \n",
            "mean   366.000000    2.496580    0.500684    6.519836    0.028728    2.997264   \n",
            "std    211.165812    1.110807    0.500342    3.451913    0.167155    2.004787   \n",
            "min      1.000000    1.000000    0.000000    1.000000    0.000000    0.000000   \n",
            "25%    183.500000    2.000000    0.000000    4.000000    0.000000    1.000000   \n",
            "50%    366.000000    3.000000    1.000000    7.000000    0.000000    3.000000   \n",
            "75%    548.500000    3.000000    1.000000   10.000000    0.000000    5.000000   \n",
            "max    731.000000    4.000000    1.000000   12.000000    1.000000    6.000000   \n",
            "\n",
            "       workingday  weathersit        temp       atemp         hum   windspeed  \\\n",
            "count  731.000000  731.000000  731.000000  731.000000  731.000000  731.000000   \n",
            "mean     0.683995    1.395349    0.495385    0.474354    0.627894    0.190486   \n",
            "std      0.465233    0.544894    0.183051    0.162961    0.142429    0.077498   \n",
            "min      0.000000    1.000000    0.059130    0.079070    0.000000    0.022392   \n",
            "25%      0.000000    1.000000    0.337083    0.337842    0.520000    0.134950   \n",
            "50%      1.000000    1.000000    0.498333    0.486733    0.626667    0.180975   \n",
            "75%      1.000000    2.000000    0.655417    0.608602    0.730209    0.233214   \n",
            "max      1.000000    3.000000    0.861667    0.840896    0.972500    0.507463   \n",
            "\n",
            "            casual   registered          cnt  \n",
            "count   731.000000   731.000000   731.000000  \n",
            "mean    848.176471  3656.172367  4504.348837  \n",
            "std     686.622488  1560.256377  1937.211452  \n",
            "min       2.000000    20.000000    22.000000  \n",
            "25%     315.500000  2497.000000  3152.000000  \n",
            "50%     713.000000  3662.000000  4548.000000  \n",
            "75%    1096.000000  4776.500000  5956.000000  \n",
            "max    3410.000000  6946.000000  8714.000000  \n",
            "\n",
            "Informasi dataset: Hour Data\n",
            "<class 'pandas.core.frame.DataFrame'>\n",
            "RangeIndex: 17379 entries, 0 to 17378\n",
            "Data columns (total 17 columns):\n",
            " #   Column      Non-Null Count  Dtype  \n",
            "---  ------      --------------  -----  \n",
            " 0   instant     17379 non-null  int64  \n",
            " 1   dteday      17379 non-null  object \n",
            " 2   season      17379 non-null  int64  \n",
            " 3   yr          17379 non-null  int64  \n",
            " 4   mnth        17379 non-null  int64  \n",
            " 5   hr          17379 non-null  int64  \n",
            " 6   holiday     17379 non-null  int64  \n",
            " 7   weekday     17379 non-null  int64  \n",
            " 8   workingday  17379 non-null  int64  \n",
            " 9   weathersit  17379 non-null  int64  \n",
            " 10  temp        17379 non-null  float64\n",
            " 11  atemp       17379 non-null  float64\n",
            " 12  hum         17379 non-null  float64\n",
            " 13  windspeed   17379 non-null  float64\n",
            " 14  casual      17379 non-null  int64  \n",
            " 15  registered  17379 non-null  int64  \n",
            " 16  cnt         17379 non-null  int64  \n",
            "dtypes: float64(4), int64(12), object(1)\n",
            "memory usage: 2.3+ MB\n",
            "None\n",
            "\n",
            "Jumlah nilai yang hilang:\n",
            "instant       0\n",
            "dteday        0\n",
            "season        0\n",
            "yr            0\n",
            "mnth          0\n",
            "hr            0\n",
            "holiday       0\n",
            "weekday       0\n",
            "workingday    0\n",
            "weathersit    0\n",
            "temp          0\n",
            "atemp         0\n",
            "hum           0\n",
            "windspeed     0\n",
            "casual        0\n",
            "registered    0\n",
            "cnt           0\n",
            "dtype: int64\n",
            "\n",
            "Jumlah duplikasi: 0\n",
            "\n",
            "Statistik deskriptif:\n",
            "          instant        season            yr          mnth            hr  \\\n",
            "count  17379.0000  17379.000000  17379.000000  17379.000000  17379.000000   \n",
            "mean    8690.0000      2.501640      0.502561      6.537775     11.546752   \n",
            "std     5017.0295      1.106918      0.500008      3.438776      6.914405   \n",
            "min        1.0000      1.000000      0.000000      1.000000      0.000000   \n",
            "25%     4345.5000      2.000000      0.000000      4.000000      6.000000   \n",
            "50%     8690.0000      3.000000      1.000000      7.000000     12.000000   \n",
            "75%    13034.5000      3.000000      1.000000     10.000000     18.000000   \n",
            "max    17379.0000      4.000000      1.000000     12.000000     23.000000   \n",
            "\n",
            "            holiday       weekday    workingday    weathersit          temp  \\\n",
            "count  17379.000000  17379.000000  17379.000000  17379.000000  17379.000000   \n",
            "mean       0.028770      3.003683      0.682721      1.425283      0.496987   \n",
            "std        0.167165      2.005771      0.465431      0.639357      0.192556   \n",
            "min        0.000000      0.000000      0.000000      1.000000      0.020000   \n",
            "25%        0.000000      1.000000      0.000000      1.000000      0.340000   \n",
            "50%        0.000000      3.000000      1.000000      1.000000      0.500000   \n",
            "75%        0.000000      5.000000      1.000000      2.000000      0.660000   \n",
            "max        1.000000      6.000000      1.000000      4.000000      1.000000   \n",
            "\n",
            "              atemp           hum     windspeed        casual    registered  \\\n",
            "count  17379.000000  17379.000000  17379.000000  17379.000000  17379.000000   \n",
            "mean       0.475775      0.627229      0.190098     35.676218    153.786869   \n",
            "std        0.171850      0.192930      0.122340     49.305030    151.357286   \n",
            "min        0.000000      0.000000      0.000000      0.000000      0.000000   \n",
            "25%        0.333300      0.480000      0.104500      4.000000     34.000000   \n",
            "50%        0.484800      0.630000      0.194000     17.000000    115.000000   \n",
            "75%        0.621200      0.780000      0.253700     48.000000    220.000000   \n",
            "max        1.000000      1.000000      0.850700    367.000000    886.000000   \n",
            "\n",
            "                cnt  \n",
            "count  17379.000000  \n",
            "mean     189.463088  \n",
            "std      181.387599  \n",
            "min        1.000000  \n",
            "25%       40.000000  \n",
            "50%      142.000000  \n",
            "75%      281.000000  \n",
            "max      977.000000  \n"
          ]
        }
      ]
    },
    {
      "cell_type": "markdown",
      "source": [
        "### Cleaning Data"
      ],
      "metadata": {
        "id": "Uz5dgcJm9HW5"
      }
    },
    {
      "cell_type": "markdown",
      "source": [
        "Memperbaiki tipe data pada kolom kolom yang berisi tanggal (\"dteday\") dalam dua DataFrame, yaitu day_df dan hour_df, menjadi objek tipe data datetime menggunakan fungsi pd.to_datetime()"
      ],
      "metadata": {
        "id": "tkn86uw_KedN"
      }
    },
    {
      "cell_type": "code",
      "source": [
        "day_data['dteday'] = pd.to_datetime(day_data['dteday'])\n",
        "hour_data['dteday'] = pd.to_datetime(hour_data['dteday'])"
      ],
      "metadata": {
        "id": "CCszTdXD9Ivf"
      },
      "execution_count": 6,
      "outputs": []
    },
    {
      "cell_type": "markdown",
      "source": [
        "## Exploratory Data Analysis (EDA)"
      ],
      "metadata": {
        "id": "EyPJaCDm9KFb"
      }
    },
    {
      "cell_type": "markdown",
      "source": [
        "### Explore ..."
      ],
      "metadata": {
        "id": "hxgJ6qd69Mce"
      }
    },
    {
      "cell_type": "markdown",
      "source": [
        "Rangkuman parameter statistik yang diperoleh"
      ],
      "metadata": {
        "id": "UCU58-9DMnaY"
      }
    },
    {
      "cell_type": "code",
      "source": [
        "print(\"\\nDataset Day Data setelah pembersihan:\")\n",
        "print(day_data.head())\n",
        "print(\"\\nDataset Hour Data setelah pembersihan:\")\n",
        "print(hour_data.head())"
      ],
      "metadata": {
        "id": "Xo68yguo9LTl",
        "colab": {
          "base_uri": "https://localhost:8080/"
        },
        "outputId": "7d06ccf7-3e55-4e34-c217-90e4a697840c"
      },
      "execution_count": 7,
      "outputs": [
        {
          "output_type": "stream",
          "name": "stdout",
          "text": [
            "\n",
            "Dataset Day Data setelah pembersihan:\n",
            "   instant     dteday  season  yr  mnth  holiday  weekday  workingday  \\\n",
            "0        1 2011-01-01       1   0     1        0        6           0   \n",
            "1        2 2011-01-02       1   0     1        0        0           0   \n",
            "2        3 2011-01-03       1   0     1        0        1           1   \n",
            "3        4 2011-01-04       1   0     1        0        2           1   \n",
            "4        5 2011-01-05       1   0     1        0        3           1   \n",
            "\n",
            "   weathersit      temp     atemp       hum  windspeed  casual  registered  \\\n",
            "0           2  0.344167  0.363625  0.805833   0.160446     331         654   \n",
            "1           2  0.363478  0.353739  0.696087   0.248539     131         670   \n",
            "2           1  0.196364  0.189405  0.437273   0.248309     120        1229   \n",
            "3           1  0.200000  0.212122  0.590435   0.160296     108        1454   \n",
            "4           1  0.226957  0.229270  0.436957   0.186900      82        1518   \n",
            "\n",
            "    cnt  \n",
            "0   985  \n",
            "1   801  \n",
            "2  1349  \n",
            "3  1562  \n",
            "4  1600  \n",
            "\n",
            "Dataset Hour Data setelah pembersihan:\n",
            "   instant     dteday  season  yr  mnth  hr  holiday  weekday  workingday  \\\n",
            "0        1 2011-01-01       1   0     1   0        0        6           0   \n",
            "1        2 2011-01-01       1   0     1   1        0        6           0   \n",
            "2        3 2011-01-01       1   0     1   2        0        6           0   \n",
            "3        4 2011-01-01       1   0     1   3        0        6           0   \n",
            "4        5 2011-01-01       1   0     1   4        0        6           0   \n",
            "\n",
            "   weathersit  temp   atemp   hum  windspeed  casual  registered  cnt  \n",
            "0           1  0.24  0.2879  0.81        0.0       3          13   16  \n",
            "1           1  0.22  0.2727  0.80        0.0       8          32   40  \n",
            "2           1  0.22  0.2727  0.80        0.0       5          27   32  \n",
            "3           1  0.24  0.2879  0.75        0.0       3          10   13  \n",
            "4           1  0.24  0.2879  0.75        0.0       0           1    1  \n"
          ]
        }
      ]
    },
    {
      "cell_type": "code",
      "source": [
        "print(\"\\nStatistik deskriptif Day Data:\")\n",
        "print(day_data.describe(include='all'))\n",
        "print(\"\\nStatistik deskriptif Hour Data:\")\n",
        "print(hour_data.describe(include='all'))"
      ],
      "metadata": {
        "colab": {
          "base_uri": "https://localhost:8080/"
        },
        "id": "TIcIuu2NMbwJ",
        "outputId": "527b4010-e2b7-4433-c2c1-1d6efaecbc20"
      },
      "execution_count": 8,
      "outputs": [
        {
          "output_type": "stream",
          "name": "stdout",
          "text": [
            "\n",
            "Statistik deskriptif Day Data:\n",
            "          instant               dteday      season          yr        mnth  \\\n",
            "count  731.000000                  731  731.000000  731.000000  731.000000   \n",
            "mean   366.000000  2012-01-01 00:00:00    2.496580    0.500684    6.519836   \n",
            "min      1.000000  2011-01-01 00:00:00    1.000000    0.000000    1.000000   \n",
            "25%    183.500000  2011-07-02 12:00:00    2.000000    0.000000    4.000000   \n",
            "50%    366.000000  2012-01-01 00:00:00    3.000000    1.000000    7.000000   \n",
            "75%    548.500000  2012-07-01 12:00:00    3.000000    1.000000   10.000000   \n",
            "max    731.000000  2012-12-31 00:00:00    4.000000    1.000000   12.000000   \n",
            "std    211.165812                  NaN    1.110807    0.500342    3.451913   \n",
            "\n",
            "          holiday     weekday  workingday  weathersit        temp       atemp  \\\n",
            "count  731.000000  731.000000  731.000000  731.000000  731.000000  731.000000   \n",
            "mean     0.028728    2.997264    0.683995    1.395349    0.495385    0.474354   \n",
            "min      0.000000    0.000000    0.000000    1.000000    0.059130    0.079070   \n",
            "25%      0.000000    1.000000    0.000000    1.000000    0.337083    0.337842   \n",
            "50%      0.000000    3.000000    1.000000    1.000000    0.498333    0.486733   \n",
            "75%      0.000000    5.000000    1.000000    2.000000    0.655417    0.608602   \n",
            "max      1.000000    6.000000    1.000000    3.000000    0.861667    0.840896   \n",
            "std      0.167155    2.004787    0.465233    0.544894    0.183051    0.162961   \n",
            "\n",
            "              hum   windspeed       casual   registered          cnt  \n",
            "count  731.000000  731.000000   731.000000   731.000000   731.000000  \n",
            "mean     0.627894    0.190486   848.176471  3656.172367  4504.348837  \n",
            "min      0.000000    0.022392     2.000000    20.000000    22.000000  \n",
            "25%      0.520000    0.134950   315.500000  2497.000000  3152.000000  \n",
            "50%      0.626667    0.180975   713.000000  3662.000000  4548.000000  \n",
            "75%      0.730209    0.233214  1096.000000  4776.500000  5956.000000  \n",
            "max      0.972500    0.507463  3410.000000  6946.000000  8714.000000  \n",
            "std      0.142429    0.077498   686.622488  1560.256377  1937.211452  \n",
            "\n",
            "Statistik deskriptif Hour Data:\n",
            "          instant                         dteday        season            yr  \\\n",
            "count  17379.0000                          17379  17379.000000  17379.000000   \n",
            "mean    8690.0000  2012-01-02 04:08:34.552045568      2.501640      0.502561   \n",
            "min        1.0000            2011-01-01 00:00:00      1.000000      0.000000   \n",
            "25%     4345.5000            2011-07-04 00:00:00      2.000000      0.000000   \n",
            "50%     8690.0000            2012-01-02 00:00:00      3.000000      1.000000   \n",
            "75%    13034.5000            2012-07-02 00:00:00      3.000000      1.000000   \n",
            "max    17379.0000            2012-12-31 00:00:00      4.000000      1.000000   \n",
            "std     5017.0295                            NaN      1.106918      0.500008   \n",
            "\n",
            "               mnth            hr       holiday       weekday    workingday  \\\n",
            "count  17379.000000  17379.000000  17379.000000  17379.000000  17379.000000   \n",
            "mean       6.537775     11.546752      0.028770      3.003683      0.682721   \n",
            "min        1.000000      0.000000      0.000000      0.000000      0.000000   \n",
            "25%        4.000000      6.000000      0.000000      1.000000      0.000000   \n",
            "50%        7.000000     12.000000      0.000000      3.000000      1.000000   \n",
            "75%       10.000000     18.000000      0.000000      5.000000      1.000000   \n",
            "max       12.000000     23.000000      1.000000      6.000000      1.000000   \n",
            "std        3.438776      6.914405      0.167165      2.005771      0.465431   \n",
            "\n",
            "         weathersit          temp         atemp           hum     windspeed  \\\n",
            "count  17379.000000  17379.000000  17379.000000  17379.000000  17379.000000   \n",
            "mean       1.425283      0.496987      0.475775      0.627229      0.190098   \n",
            "min        1.000000      0.020000      0.000000      0.000000      0.000000   \n",
            "25%        1.000000      0.340000      0.333300      0.480000      0.104500   \n",
            "50%        1.000000      0.500000      0.484800      0.630000      0.194000   \n",
            "75%        2.000000      0.660000      0.621200      0.780000      0.253700   \n",
            "max        4.000000      1.000000      1.000000      1.000000      0.850700   \n",
            "std        0.639357      0.192556      0.171850      0.192930      0.122340   \n",
            "\n",
            "             casual    registered           cnt  \n",
            "count  17379.000000  17379.000000  17379.000000  \n",
            "mean      35.676218    153.786869    189.463088  \n",
            "min        0.000000      0.000000      1.000000  \n",
            "25%        4.000000     34.000000     40.000000  \n",
            "50%       17.000000    115.000000    142.000000  \n",
            "75%       48.000000    220.000000    281.000000  \n",
            "max      367.000000    886.000000    977.000000  \n",
            "std       49.305030    151.357286    181.387599  \n"
          ]
        }
      ]
    },
    {
      "cell_type": "code",
      "source": [
        "seasonal_trend = day_data.groupby('season')['cnt'].mean().reset_index()\n",
        "print(\"\\nRata-rata penggunaan sepeda berdasarkan musim:\")\n",
        "print(seasonal_trend)"
      ],
      "metadata": {
        "colab": {
          "base_uri": "https://localhost:8080/"
        },
        "id": "_9A340JKNOvJ",
        "outputId": "e22a8f1f-1f1c-4d9d-fb33-178c462c3407"
      },
      "execution_count": 9,
      "outputs": [
        {
          "output_type": "stream",
          "name": "stdout",
          "text": [
            "\n",
            "Rata-rata penggunaan sepeda berdasarkan musim:\n",
            "   season          cnt\n",
            "0       1  2604.132597\n",
            "1       2  4992.331522\n",
            "2       3  5644.303191\n",
            "3       4  4728.162921\n"
          ]
        }
      ]
    },
    {
      "cell_type": "code",
      "source": [
        "weather_trend = day_data.groupby('weathersit')['cnt'].mean().reset_index()\n",
        "print(\"\\nHubungan kondisi cuaca dengan penggunaan sepeda:\")\n",
        "print(weather_trend)"
      ],
      "metadata": {
        "colab": {
          "base_uri": "https://localhost:8080/"
        },
        "id": "O9wmmy_x2NYM",
        "outputId": "b66b68b7-a1e0-47a3-db98-884a91186e38"
      },
      "execution_count": 10,
      "outputs": [
        {
          "output_type": "stream",
          "name": "stdout",
          "text": [
            "\n",
            "Hubungan kondisi cuaca dengan penggunaan sepeda:\n",
            "   weathersit          cnt\n",
            "0           1  4876.786177\n",
            "1           2  4035.862348\n",
            "2           3  1803.285714\n"
          ]
        }
      ]
    },
    {
      "cell_type": "markdown",
      "source": [
        "## Visualization & Explanatory Analysis"
      ],
      "metadata": {
        "id": "SCNmtOLp9OKB"
      }
    },
    {
      "cell_type": "markdown",
      "source": [
        "### Pertanyaan 1:\n",
        "\n",
        "Bagaimana rata-rata jumlah peminjaman sepeda bervariasi berdasarkan faktor musiman seperti musim dan hari dalam seminggu?"
      ],
      "metadata": {
        "id": "SG59_Fbj9Qr6"
      }
    },
    {
      "cell_type": "code",
      "source": [
        "plt.figure(figsize=(12, 6))\n",
        "sns.barplot(x='season', y='cnt', data=day_data, estimator=np.mean, ci=None, palette='coolwarm')\n",
        "plt.title('Tingkat Penggunaan Sepeda Berdasarkan Musim')\n",
        "plt.xlabel('Musim')\n",
        "plt.ylabel('Rata-rata Jumlah Peminjaman Sepeda')\n",
        "plt.xticks(ticks=[0, 1, 2, 3], labels=['Spring', 'Summer', 'Fall', 'Winter'])\n",
        "plt.show()\n",
        "\n",
        "\n",
        "plt.figure(figsize=(12, 6))\n",
        "sns.barplot(x='weekday', y='cnt', data=day_data, estimator=np.mean, ci=None, palette='coolwarm')\n",
        "plt.title('Tingkat Penggunaan Sepeda Berdasarkan Hari dalam Seminggu')\n",
        "plt.xlabel('Hari dalam Seminggu')\n",
        "plt.ylabel('Rata-rata Jumlah Peminjaman Sepeda')\n",
        "plt.xticks(ticks=[0, 1, 2, 3, 4, 5, 6], labels=['Sun', 'Mon', 'Tue', 'Wed', 'Thu', 'Fri', 'Sat'])\n",
        "plt.show()"
      ],
      "metadata": {
        "id": "dtRoaxqd9PdU",
        "colab": {
          "base_uri": "https://localhost:8080/",
          "height": 1000
        },
        "outputId": "09a30a08-d67c-4d68-f6e5-274a2b597a7a"
      },
      "execution_count": 11,
      "outputs": [
        {
          "output_type": "stream",
          "name": "stderr",
          "text": [
            "<ipython-input-11-e8cbc91cebec>:2: FutureWarning: \n",
            "\n",
            "The `ci` parameter is deprecated. Use `errorbar=None` for the same effect.\n",
            "\n",
            "  sns.barplot(x='season', y='cnt', data=day_data, estimator=np.mean, ci=None, palette='coolwarm')\n",
            "<ipython-input-11-e8cbc91cebec>:2: FutureWarning: \n",
            "\n",
            "Passing `palette` without assigning `hue` is deprecated and will be removed in v0.14.0. Assign the `x` variable to `hue` and set `legend=False` for the same effect.\n",
            "\n",
            "  sns.barplot(x='season', y='cnt', data=day_data, estimator=np.mean, ci=None, palette='coolwarm')\n"
          ]
        },
        {
          "output_type": "display_data",
          "data": {
            "text/plain": [
              "<Figure size 1200x600 with 1 Axes>"
            ],
            "image/png": "[encoded data removed]"
          },
          "metadata": {}
        },
        {
          "output_type": "stream",
          "name": "stderr",
          "text": [
            "<ipython-input-11-e8cbc91cebec>:11: FutureWarning: \n",
            "\n",
            "The `ci` parameter is deprecated. Use `errorbar=None` for the same effect.\n",
            "\n",
            "  sns.barplot(x='weekday', y='cnt', data=day_data, estimator=np.mean, ci=None, palette='coolwarm')\n",
            "<ipython-input-11-e8cbc91cebec>:11: FutureWarning: \n",
            "\n",
            "Passing `palette` without assigning `hue` is deprecated and will be removed in v0.14.0. Assign the `x` variable to `hue` and set `legend=False` for the same effect.\n",
            "\n",
            "  sns.barplot(x='weekday', y='cnt', data=day_data, estimator=np.mean, ci=None, palette='coolwarm')\n"
          ]
        },
        {
          "output_type": "display_data",
          "data": {
            "text/plain": [
              "<Figure size 1200x600 with 1 Axes>"
            ],
            "image/png": "[encoded data removed]"
          },
          "metadata": {}
        }
      ]
    },
    {
      "cell_type": "markdown",
      "source": [
        "### Pertanyaan 2:\n",
        "\n",
        "Apakah terdapat korelasi antara kondisi cuaca dan tingkat penggunaan sepeda?"
      ],
      "metadata": {
        "id": "F2Bo_ypQ9RfH"
      }
    },
    {
      "cell_type": "code",
      "source": [
        "plt.figure(figsize=(10, 6))\n",
        "sns.barplot(x='weathersit', y='cnt', data=day_data, estimator=np.mean, ci=None, palette='coolwarm')\n",
        "plt.title('Tingkat Penggunaan Sepeda Berdasarkan Kondisi Cuaca')\n",
        "plt.xlabel('Kondisi Cuaca')\n",
        "plt.ylabel('Rata-rata Jumlah Peminjaman Sepeda')\n",
        "plt.xticks(ticks=[0, 2, 1, 3])\n",
        "plt.show()"
      ],
      "metadata": {
        "id": "jkO5kTJq9S1Y",
        "colab": {
          "base_uri": "https://localhost:8080/",
          "height": 767
        },
        "outputId": "f53926bd-a860-4c33-89c3-2f030b86e108"
      },
      "execution_count": 12,
      "outputs": [
        {
          "output_type": "stream",
          "name": "stderr",
          "text": [
            "<ipython-input-12-c226135e5df6>:2: FutureWarning: \n",
            "\n",
            "The `ci` parameter is deprecated. Use `errorbar=None` for the same effect.\n",
            "\n",
            "  sns.barplot(x='weathersit', y='cnt', data=day_data, estimator=np.mean, ci=None, palette='coolwarm')\n",
            "<ipython-input-12-c226135e5df6>:2: FutureWarning: \n",
            "\n",
            "Passing `palette` without assigning `hue` is deprecated and will be removed in v0.14.0. Assign the `x` variable to `hue` and set `legend=False` for the same effect.\n",
            "\n",
            "  sns.barplot(x='weathersit', y='cnt', data=day_data, estimator=np.mean, ci=None, palette='coolwarm')\n"
          ]
        },
        {
          "output_type": "display_data",
          "data": {
            "text/plain": [
              "<Figure size 1000x600 with 1 Axes>"
            ],
            "image/png": "[encoded data removed]"
          },
          "metadata": {}
        }
      ]
    },
    {
      "cell_type": "code",
      "source": [
        "day_data.to_csv(\"cleaned_day.csv\", index=False)\n",
        "hour_data.to_csv(\"cleaned_hour.csv\", index=False)"
      ],
      "metadata": {
        "id": "2PxCTy24cit4"
      },
      "execution_count": 13,
      "outputs": []
    },
    {
      "cell_type": "markdown",
      "source": [
        "## Conclusion"
      ],
      "metadata": {
        "id": "zMUowjwJgwrk"
      }
    },
    {
      "cell_type": "markdown",
      "source": [
        "\n",
        "\n",
        "*  Bagaimana rata-rata jumlah peminjaman sepeda bervariasi berdasarkan faktor musiman seperti musim dan hari dalam seminggu?\n",
        "\n"
      ],
      "metadata": {
        "id": "Lmfa2h7_S-Gr"
      }
    },
    {
      "cell_type": "markdown",
      "source": [
        "1. Penggunaan sepeda tertinggi terjadi pada musim panas (Juni - Agustus) dengan rata-rata jumlah peminjaman tertinggi. Hal ini kemungkinan disebabkan oleh cuaca yang lebih nyaman untuk bersepeda.\n",
        "2. Penggunaan sepeda terendah terjadi pada musim dingin (Desember - Februari), yang dapat disebabkan oleh suhu yang lebih rendah dan kondisi cuaca yang kurang mendukung.\n",
        "3. Pengaruh hari dalam seminggu juga terlihat jelas. Hari kerja cenderung memiliki tingkat peminjaman yang lebih tinggi dibandingkan akhir pekan, menunjukkan bahwa sepeda banyak digunakan untuk keperluan transportasi harian."
      ],
      "metadata": {
        "id": "aOlY7u5WTBxv"
      }
    },
    {
      "cell_type": "markdown",
      "source": [
        "- Apakah terdapat korelasi antara kondisi cuaca dan tingkat penggunaan sepeda?"
      ],
      "metadata": {
        "id": "f73FBkLw9V8C"
      }
    },
    {
      "cell_type": "markdown",
      "source": [
        "1. Cuaca cerah berkorelasi dengan tingkat penggunaan sepeda yang lebih tinggi.\n",
        "2. Kondisi cuaca yang buruk (hujan ringan, salju ringan, atau kabut tebal) menyebabkan penurunan jumlah peminjaman.\n",
        "3. Cuaca ekstrem (hujan deras atau salju lebat) mengakibatkan jumlah peminjaman yang sangat rendah atau bahkan nol pada beberapa hari, menunjukkan bahwa faktor ini sangat berpengaruh terhadap keputusan masyarakat untuk menggunakan sepeda."
      ],
      "metadata": {
        "id": "EJvV_jlgVH-6"
      }
    },
    {
      "cell_type": "markdown",
      "source": [
        "### Rekomendasi\n",
        "\n",
        "1. Untuk meningkatkan penggunaan sepeda di musim dingin, pemerintah atau penyedia layanan sepeda dapat menyediakan jalur yang lebih aman dan nyaman, seperti membersihkan salju dari jalur sepeda atau menyediakan sepeda dengan fitur yang lebih sesuai untuk musim dingin.\n",
        "2. Untuk meningkatkan penggunaan di akhir pekan, bisa dilakukan promosi atau program khusus, seperti tarif lebih murah atau event bersepeda komunitas.\n",
        "3. Untuk mengurangi dampak cuaca buruk terhadap peminjaman, dapat disediakan tempat berteduh di sekitar area penyewaan sepeda serta edukasi tentang keamanan bersepeda di berbagai kondisi cuaca."
      ],
      "metadata": {
        "id": "QAxl7V8NgJyV"
      }
    }
  ]
}